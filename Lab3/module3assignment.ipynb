{
 "cells": [
  {
   "cell_type": "markdown",
   "metadata": {},
   "source": [
    "# Development of classification models for mode choices\n",
    "\n"
   ]
  },
  {
   "cell_type": "markdown",
   "metadata": {},
   "source": [
    "/// All classification models to be run\n",
    "\n",
    "// reflect and choose which one is best and why\n",
    "\n",
    "// what to do to improve prediction accuracy of models\n",
    "\n",
    "connected to data? hyperparameters?? with which they work better?"
   ]
  },
  {
   "cell_type": "markdown",
   "metadata": {},
   "source": [
    "Assignment task: Find the best classification model for the travel mode choices prediction (assignment submission) \n",
    "\n",
    "Your task is to analyse the provided dataset, which contains information about individuals' choices of travel mode.\n",
    "\n",
    "Identify which classification model works the best and whether there is a considerable difference in the results.\n",
    "Identify which model, together with its corresponding hyperparameters, gives the best performance for mode choice predictions.\n",
    "Provide a reflection on the underlying reasons why certain classification models may achieve better prediction accuracy compared to others when applied to this dataset.\n",
    "What would you suggest doing to improve the prediction accuracy of the developed classification models (any opinion about the dataset?)"
   ]
  },
  {
   "cell_type": "markdown",
   "metadata": {},
   "source": [
    "### Data Overview"
   ]
  },
  {
   "cell_type": "markdown",
   "metadata": {},
   "source": [
    "##### Importing libraries"
   ]
  },
  {
   "cell_type": "code",
   "execution_count": 15,
   "metadata": {},
   "outputs": [],
   "source": [
    "from sklearn.preprocessing import LabelEncoder\n",
    "from sklearn.model_selection import train_test_split,GridSearchCV\n",
    "from sklearn.linear_model import LogisticRegression\n",
    "from sklearn.neighbors import KNeighborsClassifier\n",
    "from sklearn.ensemble import RandomForestClassifier\n",
    "from xgboost import XGBClassifier\n",
    "from sklearn.svm import SVC\n",
    "from sklearn.naive_bayes import BernoulliNB\n",
    "from sklearn.metrics import ConfusionMatrixDisplay as cmd\n",
    "from sklearn.metrics import accuracy_score, precision_score, recall_score\n",
    "import pandas as pd\n",
    "import warnings\n",
    "from sklearn.exceptions import ConvergenceWarning\n",
    "warnings.filterwarnings(\"ignore\", category=ConvergenceWarning)"
   ]
  },
  {
   "cell_type": "code",
   "execution_count": 16,
   "metadata": {},
   "outputs": [],
   "source": [
    "data = pd.read_csv('modeChoiceData.csv')\n"
   ]
  },
  {
   "cell_type": "code",
   "execution_count": 41,
   "metadata": {},
   "outputs": [],
   "source": [
    "data=data.iloc[:1000]"
   ]
  },
  {
   "cell_type": "code",
   "execution_count": 42,
   "metadata": {},
   "outputs": [],
   "source": [
    "def preproc_split(df):\n",
    "    x = df.drop(['choice'], axis=1)\n",
    "    y = df['choice']\n",
    "    x_train, x_test, y_train, y_test = train_test_split(x, y, test_size=0.2, random_state=0)\n",
    "    return x_train, x_test, y_train, y_test"
   ]
  },
  {
   "cell_type": "code",
   "execution_count": 43,
   "metadata": {},
   "outputs": [],
   "source": [
    "def encoding_choice(data, n):\n",
    "    # print(\"Enter your choice\\n1. One-hot Encoding\\n2. Label Encoding\\n3. Dummy Encoding\\n\")\n",
    "    if n == 1:\n",
    "        print(\"Performing One-hot Encoding...\\n\")\n",
    "        df = pd.get_dummies(data, columns=['service_air', 'service_rail'])\n",
    "    elif n == 2:\n",
    "        print(\"Performing Label Encoding...\\n\")\n",
    "        encoder = LabelEncoder()\n",
    "        df=data.copy()\n",
    "        df['service_air'] = encoder.fit_transform(df['service_air'])\n",
    "        df['service_rail'] = encoder.fit_transform(df['service_rail'])\n",
    "    elif n == 3:\n",
    "        print(\"Performing Dummy Encoding...\\n\")\n",
    "        df=data.copy()\n",
    "        dummy_df = pd.get_dummies(df[['service_air', 'service_rail']], drop_first=True)\n",
    "        df = pd.concat([df, dummy_df], axis=1)\n",
    "        df=df.drop(['service_air', 'service_rail'],axis=1)\n",
    "    else:\n",
    "        print(\"Performing One-hot Encoding...\\n\")\n",
    "        df = pd.get_dummies(data, columns=['service_air', 'service_rail'])\n",
    "\n",
    "    return df"
   ]
  },
  {
   "cell_type": "code",
   "execution_count": 44,
   "metadata": {},
   "outputs": [],
   "source": [
    "def grid_search(model, params, x_train,y_train):\n",
    "    gridSearch = GridSearchCV(estimator=model, param_grid=params, cv=5, scoring='accuracy')\n",
    "    return gridSearch"
   ]
  },
  {
   "cell_type": "code",
   "execution_count": 45,
   "metadata": {},
   "outputs": [],
   "source": [
    "def perf_lr(x_train,y_train):\n",
    "    params = {\n",
    "    'C': [0.001, 0.01, 0.1, 1, 10, 100],\n",
    "    }\n",
    "    model = LogisticRegression(max_iter=1000, random_state=0)\n",
    "    gridSearch = grid_search(model, params,x_train,y_train)\n",
    "    gridSearch.fit(x_train, y_train)\n",
    "    \n",
    "    # Retrieve the best hyperparameters identified by the grid search\n",
    "    best_params = gridSearch.best_params_\n",
    "    print(\"Best Parameters: \\n\")\n",
    "    print(best_params)\n",
    "\n",
    "    # Retrieve the best cross-validated accuracy score achieved with the best hyperparameters\n",
    "    best_score = gridSearch.best_score_\n",
    "\n",
    "    # Set 'model' to be the best estimator (model with the best hyperparameters) identified by the grid search\n",
    "    model = gridSearch.best_estimator_\n",
    "\n",
    "    cmd.from_estimator(model, x_test, y_test,cmap='Blues',colorbar=False)\n",
    "\n",
    "    ##---------------------Different measurements---------------------------\n",
    "    print(f'Accuracy: {accuracy_score(y_test,model.predict(x_test))}')\n",
    "    print(f'Precision: {precision_score(y_test,model.predict(x_test),average=None)}')\n",
    "    print(f'Recall: {recall_score(y_test,model.predict(x_test),average=None)}')"
   ]
  },
  {
   "cell_type": "code",
   "execution_count": 46,
   "metadata": {},
   "outputs": [],
   "source": [
    "def perf_knn(x_train,y_train):\n",
    "    params = {\n",
    "        'n_neighbors': [3, 5, 7, 9],\n",
    "        'weights': ['uniform', 'distance']\n",
    "    }\n",
    "    model=KNeighborsClassifier()\n",
    "\n",
    "    gridSearch = grid_search(model, params,x_train,y_train)\n",
    "    gridSearch.fit(x_train, y_train)\n",
    "\n",
    "    # Retrieve the best hyperparameters identified by the grid search\n",
    "    best_params = gridSearch.best_params_\n",
    "    print(\"Best Parameters: \\n\")\n",
    "    print(best_params)\n",
    "\n",
    "    # Retrieve the best cross-validated accuracy score achieved with the best hyperparameters\n",
    "    best_score = gridSearch.best_score_\n",
    "\n",
    "    # Set 'model' to be the best estimator (model with the best hyperparameters) identified by the grid search\n",
    "    model = gridSearch.best_estimator_\n",
    "\n",
    "    cmd.from_estimator(model, x_test, y_test,cmap='Blues',colorbar=False)\n",
    "\n",
    "    ##---------------------Different measurements---------------------------\n",
    "    print(f'Accuracy: {accuracy_score(y_test,model.predict(x_test))}')\n",
    "    print(f'Precision: {precision_score(y_test,model.predict(x_test),average=None)}')\n",
    "    print(f'Recall: {recall_score(y_test,model.predict(x_test),average=None)}')    "
   ]
  },
  {
   "cell_type": "code",
   "execution_count": 47,
   "metadata": {},
   "outputs": [],
   "source": [
    "def perf_rf(x_train,y_train):\n",
    "    \n",
    "    params = {\n",
    "    'n_estimators': [1000, 2000, 3000],\n",
    "    'max_depth': [None, 10, 20, 30],\n",
    "    'min_samples_split': [2, 5, 10],\n",
    "    'min_samples_leaf': [1, 2, 4]\n",
    "    }\n",
    "\n",
    "    model = RandomForestClassifier(random_state=0)\n",
    "\n",
    "    gridSearch = grid_search(model, params,x_train,y_train)\n",
    "    gridSearch.fit(x_train, y_train)\n",
    "\n",
    "    # Retrieve the best hyperparameters identified by the grid search\n",
    "    best_params = gridSearch.best_params_\n",
    "    print(\"Best Parameters: \\n\")\n",
    "    print(best_params)\n",
    "\n",
    "    # Retrieve the best cross-validated accuracy score achieved with the best hyperparameters\n",
    "    best_score = gridSearch.best_score_\n",
    "\n",
    "    # Set 'model' to be the best estimator (model with the best hyperparameters) identified by the grid search\n",
    "    model = gridSearch.best_estimator_\n",
    "\n",
    "    cmd.from_estimator(model, x_test, y_test,cmap='Blues',colorbar=False)\n",
    "\n",
    "    ##---------------------Different measurements---------------------------\n",
    "    print(f'Accuracy: {accuracy_score(y_test,model.predict(x_test))}')\n",
    "    print(f'Precision: {precision_score(y_test,model.predict(x_test),average=None)}')\n",
    "    print(f'Recall: {recall_score(y_test,model.predict(x_test),average=None)}')    "
   ]
  },
  {
   "cell_type": "code",
   "execution_count": 48,
   "metadata": {},
   "outputs": [],
   "source": [
    "def model_choice_perf(xtrain, ytrain,y_test=None):\n",
    "    mod_name = input(\"Enter the model name \\nLogistic Regression: LR\\nK-Nearest Neighbors: KNN\\nRandom Forest: RF\\nXGBoost: XGBoost\\nSupport Vector Machine: SVM\\n \")\n",
    "    if str.lower(mod_name) == 'lr':\n",
    "        print(\"Model Choice: Logistic Regression\\n\")\n",
    "        perf_lr(xtrain,ytrain)\n",
    "        \n",
    "    #     model.fit(xtrain, ytrain)\n",
    "    #     cmd.from_estimator(model, x_test, y_test,cmap='Blues',colorbar=False)\n",
    "    #     print('The accuracy of the model is: '+str(accuracy_score(y_test,model.predict(x_test))))\n",
    "    #     # Calculate different measurements\n",
    "    #     print(f'Accuracy: {accuracy_score(y_test,model.predict(x_test))}')\n",
    "    #     print(f'Precision: {precision_score(y_test,model.predict(x_test),average=None)}')\n",
    "    #     print(f'Recall: {recall_score(y_test,model.predict(x_test),average=None)}')\n",
    "    \n",
    "    elif str.lower(mod_name) == 'knn':\n",
    "        print(\"Model Choice: K-Nearest Neighbours\\n\")\n",
    "        perf_knn(xtrain,ytrain)\n",
    "    #     cmd.from_estimator(model, x_test, y_test,cmap='Blues',colorbar=False)\n",
    "    #     print('The accuracy of the model is: '+str(accuracy_score(y_test,model.predict(x_test))))\n",
    "    #     # Calculate different measurements\n",
    "    #     print(f'Accuracy: {accuracy_score(y_test,model.predict(x_test))}')\n",
    "    #     print(f'Precision: {precision_score(y_test,model.predict(x_test),average=None)}')\n",
    "    #     print(f'Recall: {recall_score(y_test,model.predict(x_test),average=None)}')\n",
    "\n",
    "    elif str.lower(mod_name) == 'rf':\n",
    "        print(\"Model Choice: Random Forest\\n\")\n",
    "        perf_rf(xtrain,ytrain)\n",
    "    #     model = RandomForestClassifier(random_state=0)\n",
    "    #     cmd.from_estimator(model, x_test, y_test,cmap='Blues',colorbar=False)\n",
    "    #     print('The accuracy of the model is: '+str(accuracy_score(y_test,model.predict(x_test))))\n",
    "    #     # Calculate different measurements\n",
    "    #     print(f'Accuracy: {accuracy_score(y_test,model.predict(x_test))}')\n",
    "    #     print(f'Precision: {precision_score(y_test,model.predict(x_test),average=None)}')\n",
    "    #     print(f'Recall: {recall_score(y_test,model.predict(x_test),average=None)}')\n",
    "\n",
    "    # elif str.lower(mod_name) == 'xgboost':\n",
    "    #     map = {'air': 0, 'bus': 1, 'car': 2,'rail':3}\n",
    "    #     y_train = y_train.map(map)\n",
    "    #     y_test = y_test.map(map)\n",
    "    #     model =  XGBClassifier()\n",
    "    #     cmd.from_estimator(model, x_test, y_test,cmap='Blues',colorbar=False)\n",
    "    #     print('The accuracy of the model is: '+str(accuracy_score(y_test,model.predict(x_test))))\n",
    "    #     # Calculate different measurements\n",
    "    #     print(f'Accuracy: {accuracy_score(y_test,model.predict(x_test))}')\n",
    "    #     print(f'Precision: {precision_score(y_test,model.predict(x_test),average=None)}')\n",
    "    #     print(f'Recall: {recall_score(y_test,model.predict(x_test),average=None)}')\n",
    "    \n",
    "    # # elif str.lower(mod_name) == 'svm':\n",
    "    # #     model= SVC(kernel=\"linear\")\n",
    "    else:\n",
    "        print(\"Please enter a valid model name\")"
   ]
  },
  {
   "cell_type": "code",
   "execution_count": 49,
   "metadata": {},
   "outputs": [
    {
     "name": "stdout",
     "output_type": "stream",
     "text": [
      "Performing One-hot Encoding...\n",
      "\n",
      "Model Choice: Random Forest\n",
      "\n",
      "Best Parameters: \n",
      "\n",
      "{'max_depth': None, 'min_samples_leaf': 4, 'min_samples_split': 10, 'n_estimators': 2000}\n",
      "Accuracy: 0.54\n",
      "Precision: [0.5        0.         0.38888889 0.68604651]\n",
      "Recall: [0.4375     0.         0.50909091 0.67816092]\n"
     ]
    },
    {
     "name": "stderr",
     "output_type": "stream",
     "text": [
      "c:\\Users\\Trisha Chander\\AppData\\Local\\Programs\\Python\\Python310\\lib\\site-packages\\sklearn\\metrics\\_classification.py:1469: UndefinedMetricWarning: Precision is ill-defined and being set to 0.0 in labels with no predicted samples. Use `zero_division` parameter to control this behavior.\n",
      "  _warn_prf(average, modifier, msg_start, len(result))\n"
     ]
    },
    {
     "data": {
      "image/png": "[encoded data removed]",
      "text/plain": [
       "<Figure size 640x480 with 1 Axes>"
      ]
     },
     "metadata": {},
     "output_type": "display_data"
    }
   ],
   "source": [
    "encoded_df = encoding_choice(data, 1)\n",
    "x_train, x_test, y_train, y_test = preproc_split(encoded_df)\n",
    "model_choice_perf(x_train, y_train)"
   ]
  },
  {
   "cell_type": "code",
   "execution_count": null,
   "metadata": {},
   "outputs": [],
   "source": []
  }
 ],
 "metadata": {
  "kernelspec": {
   "display_name": "Python 3",
   "language": "python",
   "name": "python3"
  },
  "language_info": {
   "codemirror_mode": {
    "name": "ipython",
    "version": 3
   },
   "file_extension": ".py",
   "mimetype": "text/x-python",
   "name": "python",
   "nbconvert_exporter": "python",
   "pygments_lexer": "ipython3",
   "version": "3.10.5"
  },
  "orig_nbformat": 4
 },
 "nbformat": 4,
 "nbformat_minor": 2
}
